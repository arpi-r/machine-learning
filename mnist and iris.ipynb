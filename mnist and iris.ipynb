{
 "cells": [
  {
   "cell_type": "code",
   "execution_count": 19,
   "metadata": {},
   "outputs": [
    {
     "name": "stdout",
     "output_type": "stream",
     "text": [
      "Iteration 1, loss = 0.32212731\n",
      "Iteration 2, loss = 0.15738787\n",
      "Iteration 3, loss = 0.11647274\n",
      "Iteration 4, loss = 0.09631113\n",
      "Iteration 5, loss = 0.08074513\n",
      "Iteration 6, loss = 0.07163224\n",
      "Iteration 7, loss = 0.06351392\n",
      "Iteration 8, loss = 0.05694146\n",
      "Iteration 9, loss = 0.05213487\n",
      "Iteration 10, loss = 0.04708320\n",
      "Iteration 11, loss = 0.04188246\n",
      "Iteration 12, loss = 0.03864420\n",
      "Iteration 13, loss = 0.03513415\n",
      "Iteration 14, loss = 0.03222310\n",
      "Iteration 15, loss = 0.02956183\n",
      "Iteration 16, loss = 0.02620840\n",
      "Iteration 17, loss = 0.02424569\n",
      "Iteration 18, loss = 0.02129204\n",
      "Iteration 19, loss = 0.02030622\n",
      "Iteration 20, loss = 0.01848272\n"
     ]
    },
    {
     "name": "stderr",
     "output_type": "stream",
     "text": [
      "C:\\Users\\arpithar\\Anaconda3\\lib\\site-packages\\sklearn\\neural_network\\multilayer_perceptron.py:564: ConvergenceWarning: Stochastic Optimizer: Maximum iterations (20) reached and the optimization hasn't converged yet.\n",
      "  % self.max_iter, ConvergenceWarning)\n"
     ]
    },
    {
     "name": "stdout",
     "output_type": "stream",
     "text": [
      "Training set score: 0.995333\n",
      "Test set score: 0.972100\n"
     ]
    }
   ],
   "source": [
    "import matplotlib.pyplot as plt\n",
    "from sklearn.datasets import fetch_mldata\n",
    "from sklearn.neural_network import MLPClassifier\n",
    "\n",
    "#from sklearn.datasets import fetch_mldata\n",
    "\n",
    "\n",
    "   \n",
    "mnist = fetch_mldata(\"MNIST original\")\n",
    "\n",
    "X, y = mnist.data / 255., mnist.target\n",
    "X_train, X_test = X[:60000], X[60000:]\n",
    "y_train, y_test = y[:60000], y[60000:]\n",
    "\n",
    "# mlp = MLPClassifier(hidden_layer_sizes=(100, 100), max_iter=400, alpha=1e-4,\n",
    "#                     solver='sgd', verbose=10, tol=1e-4, random_state=1)\n",
    "mlp = MLPClassifier(hidden_layer_sizes=(50,), max_iter=20, alpha=1e-4,\n",
    "                    solver='sgd', verbose=10, tol=1e-4, random_state=1,\n",
    "                    learning_rate_init=.1)\n",
    "\n",
    "mlp.fit(X_train, y_train)\n",
    "print(\"Training set score: %f\" % mlp.score(X_train, y_train))\n",
    "print(\"Test set score: %f\" % mlp.score(X_test, y_test))\n"
   ]
  },
  {
   "cell_type": "code",
   "execution_count": null,
   "metadata": {},
   "outputs": [],
   "source": []
  },
  {
   "cell_type": "code",
   "execution_count": 18,
   "metadata": {},
   "outputs": [
    {
     "name": "stdout",
     "output_type": "stream",
     "text": [
      "Iteration 1, loss = 1.26292642\n",
      "Iteration 2, loss = 4.83227648\n",
      "Iteration 3, loss = 2.09858323\n",
      "Iteration 4, loss = 1.12874094\n",
      "Iteration 5, loss = 1.33821601\n",
      "Iteration 6, loss = 1.31466194\n",
      "Iteration 7, loss = 1.10558947\n",
      "Iteration 8, loss = 1.19854804\n",
      "Iteration 9, loss = 1.04487964\n",
      "Iteration 10, loss = 1.05469676\n",
      "Iteration 11, loss = 1.02210816\n",
      "Iteration 12, loss = 0.99814562\n",
      "Iteration 13, loss = 0.97913466\n",
      "Iteration 14, loss = 0.94297691\n",
      "Iteration 15, loss = 0.91786870\n",
      "Iteration 16, loss = 0.87965642\n",
      "Iteration 17, loss = 0.83924757\n",
      "Iteration 18, loss = 0.78758160\n",
      "Iteration 19, loss = 0.74889371\n",
      "Iteration 20, loss = 0.69708696\n",
      "Iteration 21, loss = 0.65854164\n",
      "Iteration 22, loss = 0.62264809\n",
      "Iteration 23, loss = 0.59032934\n",
      "Iteration 24, loss = 0.56957913\n",
      "Iteration 25, loss = 0.54381936\n",
      "Iteration 26, loss = 0.53007771\n",
      "Iteration 27, loss = 0.51352804\n",
      "Iteration 28, loss = 0.50591950\n",
      "Iteration 29, loss = 0.49520553\n",
      "Iteration 30, loss = 0.49097638\n",
      "Iteration 31, loss = 0.48464492\n",
      "Iteration 32, loss = 0.48035569\n",
      "Iteration 33, loss = 0.47718941\n",
      "Iteration 34, loss = 0.47306661\n",
      "Iteration 35, loss = 0.47197895\n",
      "Iteration 36, loss = 0.47421484\n",
      "Iteration 37, loss = 0.48499823\n",
      "Iteration 38, loss = 0.48593498\n",
      "Training loss did not improve more than tol=0.000100 for two consecutive epochs. Stopping.\n",
      "Training set score: 0.750000\n",
      "Test set score: 0.842105\n"
     ]
    }
   ],
   "source": [
    "from sklearn import datasets\n",
    "from sklearn.model_selection import train_test_split\n",
    "\n",
    "\n",
    "iris = datasets.load_iris()\n",
    "X = iris.data[:, :2] \n",
    "y = iris.target\n",
    "X_train, X_test, y_train, y_test = train_test_split(X, y, test_size=0.25, random_state=42)\n",
    "\n",
    "mlp = MLPClassifier(hidden_layer_sizes=(50,), max_iter=130, alpha=1e-4, verbose=10, tol=1e-4, random_state=1,\n",
    "                    learning_rate_init=.1)\n",
    "\n",
    "mlp.fit(X_train, y_train)\n",
    "print(\"Training set score: %f\" % mlp.score(X_train, y_train))\n",
    "print(\"Test set score: %f\" % mlp.score(X_test, y_test))"
   ]
  },
  {
   "cell_type": "code",
   "execution_count": null,
   "metadata": {
    "collapsed": true
   },
   "outputs": [],
   "source": []
  },
  {
   "cell_type": "code",
   "execution_count": null,
   "metadata": {
    "collapsed": true
   },
   "outputs": [],
   "source": []
  }
 ],
 "metadata": {
  "kernelspec": {
   "display_name": "Python 3",
   "language": "python",
   "name": "python3"
  },
  "language_info": {
   "codemirror_mode": {
    "name": "ipython",
    "version": 3
   },
   "file_extension": ".py",
   "mimetype": "text/x-python",
   "name": "python",
   "nbconvert_exporter": "python",
   "pygments_lexer": "ipython3",
   "version": "3.6.3"
  }
 },
 "nbformat": 4,
 "nbformat_minor": 2
}
